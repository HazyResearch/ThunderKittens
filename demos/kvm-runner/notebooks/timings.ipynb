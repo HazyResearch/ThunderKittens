{
 "cells": [
  {
   "cell_type": "code",
   "execution_count": 17,
   "metadata": {},
   "outputs": [],
   "source": [
    "import pickle\n",
    "import torch\n",
    "from pathlib import Path\n",
    "from collections import defaultdict\n",
    "import matplotlib.pyplot as plt"
   ]
  },
  {
   "cell_type": "code",
   "execution_count": 18,
   "metadata": {},
   "outputs": [],
   "source": [
    "data_path = Path(\"/home/ubuntu/bfs/jj/ThunderKittens/demos/kvm-runner/smid.pkl\")\n",
    "\n",
    "with open(data_path, \"rb\") as f:\n",
    "    data = pickle.load(f)\n"
   ]
  },
  {
   "cell_type": "code",
   "execution_count": 19,
   "metadata": {},
   "outputs": [
    {
     "data": {
      "text/plain": [
       "(torch.Size([148, 64, 128]), torch.Size([148, 64, 32]))"
      ]
     },
     "execution_count": 19,
     "metadata": {},
     "output_type": "execute_result"
    }
   ],
   "source": [
    "timings = data[\"timings\"]\n",
    "instructions = data[\"instructions\"]\n",
    "python_instructions = data[\"python_instructions\"]\n",
    "\n",
    "timings.shape, instructions.shape"
   ]
  },
  {
   "cell_type": "code",
   "execution_count": 20,
   "metadata": {},
   "outputs": [],
   "source": [
    "NUM_SMS, NUM_INSTRUCTIONS, _ = timings.shape"
   ]
  },
  {
   "cell_type": "code",
   "execution_count": 21,
   "metadata": {},
   "outputs": [],
   "source": [
    "# // timing event convention\n",
    "# constexpr int TEVENT_CONTROLLER_START = 0;\n",
    "# constexpr int TEVENT_IFETCH_DONE = 1;\n",
    "# constexpr int TEVENT_PAGE_ALLOC_DONE = 2;\n",
    "# constexpr int TEVENT_SEMS_SETUP = 3;\n",
    "# constexpr int TEVENT_CONTROLLER_END = 4;\n",
    "# constexpr int TEVENT_LOADER_START = 5;\n",
    "# constexpr int TEVENT_LAUNCHER_START = 7;\n",
    "# constexpr int TEVENT_STORER_START = 9;\n",
    "# // need NUM_CONSUMER_WARPS * 2 slots here\n",
    "# constexpr int TEVENT_CONSUMER_START = 11;\n",
    "\n",
    "# constexpr int TEVENT_AT_GMEM_WAIT = 44;\n",
    "# constexpr int TEVENT_DONE_GMEM_WAIT = 45;\n",
    "\n",
    "# constexpr int TEVENT_OUTPUT_READY = 46;\n",
    "\n",
    "# constexpr int FREE_SLOTS_START = 47;\n",
    "\n",
    "# constexpr int TEVENT_TRIPLES_START = 100;\n",
    "# constexpr int TEVENT_TRIPLES_END = 110;\n",
    "# constexpr int TEVENT_TRIPLES_STORE_START = 124;\n",
    "# constexpr int TEVENT_TRIPLES_OUTPUT_READY = 125;\n",
    "\n",
    "TEVENT_CONTROLLER_START = 0\n",
    "TEVENT_IFETCH_DONE = 1\n",
    "TEVENT_PAGE_ALLOC_DONE = 2\n",
    "TEVENT_SEMS_SETUP = 3\n",
    "TEVENT_CONTROLLER_END = 4\n",
    "TEVENT_LOADER_START = 5\n",
    "TEVENT_LOADER_END = 6\n",
    "TEVENT_LAUNCHER_START = 7\n",
    "TEVENT_LAUNCHER_END = 8\n",
    "TEVENT_STORER_START = 9\n",
    "TEVENT_STORER_END = 10\n",
    "TEVENT_CONSUMER_START = 11\n",
    "TEVENT_CONSUMER_END = 12\n",
    "TEVENT_AT_GMEM_WAIT = 44\n",
    "TEVENT_DONE_GMEM_WAIT = 45\n",
    "\n",
    "CLOCK_SPEED = 1.8e9\n",
    "\n",
    "\n",
    "OPCODE_RMS_QKV_MatVecRopeAppend = 1\n",
    "OPCODE_PartialAttention = 2\n",
    "OPCODE_AttentionReduction = 3\n",
    "OPCODE_O_ProjResidual = 4\n",
    "OPCODE_RMS_DoubleMatVecSiLU = 5\n",
    "OPCODE_DownProjResidual = 6\n",
    "OPCODE_LM_Head = 7\n"
   ]
  },
  {
   "cell_type": "code",
   "execution_count": 14,
   "metadata": {},
   "outputs": [
    {
     "data": {
      "text/plain": [
       "{1: 0.17461938438973687,\n",
       " 2: 0.010525662642809009,\n",
       " 5: 0.27398112648486306,\n",
       " 6: 0.32256883162326894,\n",
       " 4: 0.10748042194378887,\n",
       " 7: 0.08687031443688276,\n",
       " 0: 0.023954258478650528}"
      ]
     },
     "execution_count": 14,
     "metadata": {},
     "output_type": "execute_result"
    }
   ],
   "source": [
    "# determine total time spent in each op\n",
    "\n",
    "op_to_total_time = defaultdict(int)\n",
    "\n",
    "for sm in range(NUM_SMS):\n",
    "    for i in range(NUM_INSTRUCTIONS):\n",
    "        opcode = instructions[sm, i, 0].item()\n",
    "        start = timings[sm, i, TEVENT_CONTROLLER_START].item()\n",
    "        end = timings[sm, i, TEVENT_CONTROLLER_END].item()\n",
    "        elapsed = end - start\n",
    "        assert elapsed > 0\n",
    "        op_to_total_time[opcode] += end - start\n",
    "\n",
    "total_time = sum(op_to_total_time.values())\n",
    "relative_time = {k: v / total_time for k, v in op_to_total_time.items()}\n",
    "\n",
    "relative_time"
   ]
  },
  {
   "cell_type": "code",
   "execution_count": 15,
   "metadata": {},
   "outputs": [
    {
     "data": {
      "text/plain": [
       "tensor(0.8525)"
      ]
     },
     "execution_count": 15,
     "metadata": {},
     "output_type": "execute_result"
    }
   ],
   "source": [
    "max_per_sm = timings.max(-1).values.max(-1).values\n",
    "total_max = max_per_sm.max()\n",
    "relative_finishes = max_per_sm / total_max\n",
    "\n",
    "relative_finishes.min()"
   ]
  },
  {
   "cell_type": "code",
   "execution_count": 16,
   "metadata": {},
   "outputs": [
    {
     "data": {
      "text/plain": [
       "tensor([0.8867, 0.8534, 0.9246, 0.8939, 0.9496, 0.9316, 0.9977, 0.9652, 0.9685,\n",
       "        0.9427, 0.9849, 0.9617, 0.9772, 0.9519, 0.9382, 0.9317, 0.8824, 0.8525,\n",
       "        0.9318, 0.9082, 0.9685, 0.9329, 0.9876, 0.9629, 0.9758, 0.9246, 0.9759,\n",
       "        0.9459, 0.9753, 0.9464, 0.9582, 0.9407, 0.8988, 0.8655, 0.9528, 0.9175,\n",
       "        0.9591, 0.9253, 0.9710, 0.9429, 0.9371, 0.9199, 0.9820, 0.9624, 0.9864,\n",
       "        0.9612, 0.9721, 0.9402, 0.8948, 0.8525, 0.9467, 0.9122, 0.9468, 0.9193,\n",
       "        0.9800, 0.9663, 0.9828, 0.9580, 0.9975, 0.9654, 0.9447, 0.9296, 0.9311,\n",
       "        0.9326, 0.8850, 0.8551, 0.9205, 0.9113, 0.9602, 0.9270, 0.9922, 0.9652,\n",
       "        0.9778, 0.9278, 0.9837, 0.9390, 0.9852, 0.9522, 0.9279, 0.9186, 0.9557,\n",
       "        0.9258, 0.9696, 0.9402, 1.0000, 0.9660, 0.9727, 0.9427, 0.9828, 0.9623,\n",
       "        0.9156, 0.9049, 0.9655, 0.9363, 0.9233, 0.9085, 0.9692, 0.9390, 0.9948,\n",
       "        0.9425, 0.9785, 0.9301, 0.9503, 0.9287, 0.9882, 0.9637, 0.9657, 0.9421,\n",
       "        0.9420, 0.9024, 0.9547, 0.9171, 0.9603, 0.9423, 0.9293, 0.9094, 0.9448,\n",
       "        0.9395, 0.9836, 0.9570, 0.9574, 0.9341, 0.9377, 0.9025, 0.9422, 0.8994,\n",
       "        0.9407, 0.9225, 0.9540, 0.9378, 0.9988, 0.9673, 0.9822, 0.9533, 0.9671,\n",
       "        0.9370, 0.9786, 0.9549, 0.9354, 0.9221, 0.9158, 0.9148, 0.8791, 0.8554,\n",
       "        0.9885, 0.9557, 0.9551, 0.9363])"
      ]
     },
     "execution_count": 16,
     "metadata": {},
     "output_type": "execute_result"
    }
   ],
   "source": [
    "relative_finishes"
   ]
  },
  {
   "cell_type": "code",
   "execution_count": null,
   "metadata": {},
   "outputs": [],
   "source": []
  },
  {
   "cell_type": "code",
   "execution_count": 13,
   "metadata": {},
   "outputs": [
    {
     "data": {
      "text/plain": [
       "(tensor(521.8661), tensor(679.1028))"
      ]
     },
     "execution_count": 13,
     "metadata": {},
     "output_type": "execute_result"
    }
   ],
   "source": [
    "max_clocks = timings.max()\n",
    "max_time = max_clocks / CLOCK_SPEED * 1e6\n",
    "\n",
    "min_frac = relative_finishes.min()\n",
    "min_time = max_time * min_frac\n",
    "\n",
    "min_time, max_time"
   ]
  },
  {
   "cell_type": "code",
   "execution_count": 31,
   "metadata": {},
   "outputs": [
    {
     "data": {
      "text/plain": [
       "(array([ 45., 153., 230., 225., 110.,  64., 184., 324., 427., 410., 252.,\n",
       "        195., 180., 179., 191., 232., 202., 198., 222., 142.,  53.,  46.,\n",
       "        105., 156., 168., 112.,  69.,  43.,  37.,  58., 215., 401., 401.,\n",
       "        335., 292., 401., 356., 222., 168., 258., 353., 298., 130.,  63.,\n",
       "         33.,  15.,   5.,   1.,   1.,   1.,   5.,   3.,  14.,  15.,   9.,\n",
       "         11.,  11.,   8.,   5.,   1.,   3.,   7.,   8.,  13.,   3.,   5.,\n",
       "          2.,   2.,   2.,   0.,   0.,   1.,   0.,   0.,   0.,   0.,   1.,\n",
       "          3.,   6.,  11.,   5.,   9.,   7.,  14.,   9.,   9.,   6.,  12.,\n",
       "         10.,   8.,   3.,   7.,  10.,  12.,  10.,  15.,  10.,  12.,   0.,\n",
       "          2.]),\n",
       " array([ 5.35166667,  5.66267778,  5.97368889,  6.2847    ,  6.59571111,\n",
       "         6.90672222,  7.21773333,  7.52874444,  7.83975556,  8.15076667,\n",
       "         8.46177778,  8.77278889,  9.0838    ,  9.39481111,  9.70582222,\n",
       "        10.01683333, 10.32784444, 10.63885556, 10.94986667, 11.26087778,\n",
       "        11.57188889, 11.8829    , 12.19391111, 12.50492222, 12.81593333,\n",
       "        13.12694444, 13.43795556, 13.74896667, 14.05997778, 14.37098889,\n",
       "        14.682     , 14.99301111, 15.30402222, 15.61503333, 15.92604444,\n",
       "        16.23705556, 16.54806667, 16.85907778, 17.17008889, 17.4811    ,\n",
       "        17.79211111, 18.10312222, 18.41413333, 18.72514444, 19.03615556,\n",
       "        19.34716667, 19.65817778, 19.96918889, 20.2802    , 20.59121111,\n",
       "        20.90222222, 21.21323333, 21.52424444, 21.83525556, 22.14626667,\n",
       "        22.45727778, 22.76828889, 23.0793    , 23.39031111, 23.70132222,\n",
       "        24.01233333, 24.32334444, 24.63435556, 24.94536667, 25.25637778,\n",
       "        25.56738889, 25.8784    , 26.18941111, 26.50042222, 26.81143333,\n",
       "        27.12244444, 27.43345556, 27.74446667, 28.05547778, 28.36648889,\n",
       "        28.6775    , 28.98851111, 29.29952222, 29.61053333, 29.92154444,\n",
       "        30.23255556, 30.54356667, 30.85457778, 31.16558889, 31.4766    ,\n",
       "        31.78761111, 32.09862222, 32.40963333, 32.72064444, 33.03165556,\n",
       "        33.34266667, 33.65367778, 33.96468889, 34.2757    , 34.58671111,\n",
       "        34.89772222, 35.20873333, 35.51974444, 35.83075556, 36.14176667,\n",
       "        36.45277778]),\n",
       " <BarContainer object of 100 artists>)"
      ]
     },
     "execution_count": 31,
     "metadata": {},
     "output_type": "execute_result"
    },
    {
     "data": {
      "image/png": "[encoded data removed]",
      "text/plain": [
       "<Figure size 640x480 with 1 Axes>"
      ]
     },
     "metadata": {},
     "output_type": "display_data"
    }
   ],
   "source": [
    "gmem_wait_times = []\n",
    "for sm in range(NUM_SMS):\n",
    "    for i in range(NUM_INSTRUCTIONS):\n",
    "        opcode = instructions[sm, i, 0].item()\n",
    "        if opcode in [0,7]:\n",
    "            continue\n",
    "\n",
    "        gmem_start = timings[sm, i, TEVENT_STORER_START].item()\n",
    "        gmem_end = timings[sm, i, TEVENT_STORER_END].item()\n",
    "        elapsed = gmem_end - gmem_start\n",
    "\n",
    "        gmem_wait_times.append(elapsed)\n",
    "\n",
    "\n",
    "gmem_wait_times_us = [x / CLOCK_SPEED * 1e6 for x in gmem_wait_times]\n",
    "\n",
    "plt.hist(gmem_wait_times_us, bins=100)\n"
   ]
  },
  {
   "cell_type": "code",
   "execution_count": 27,
   "metadata": {},
   "outputs": [
    {
     "data": {
      "text/plain": [
       "11.499551661036035"
      ]
     },
     "execution_count": 27,
     "metadata": {},
     "output_type": "execute_result"
    }
   ],
   "source": [
    "sum(x for x in gmem_wait_times_us if x > 0) / 148 / 64"
   ]
  },
  {
   "cell_type": "code",
   "execution_count": 10,
   "metadata": {},
   "outputs": [
    {
     "data": {
      "text/plain": [
       "tensor([[ 8628,  9341,  9673, 10378, 16562],\n",
       "        [10568, 11095, 12792, 12940, 18509],\n",
       "        [13259, 13787, 14226, 14371, 20492],\n",
       "        [14819, 15345, 15623, 15866, 22381],\n",
       "        [16777, 17302, 17597, 17753, 24396],\n",
       "        [18737, 19249, 19489, 19645, 26328],\n",
       "        [20749, 21279, 21524, 21672, 28384],\n",
       "        [22699, 23295, 23528, 23673, 30544],\n",
       "        [24817, 25360, 25593, 25740, 32677],\n",
       "        [26740, 27390, 27636, 27782, 34783],\n",
       "        [28891, 29560, 29800, 29951, 36875],\n",
       "        [30952, 31686, 31924, 32069, 38964],\n",
       "        [33190, 33790, 34047, 34193, 41052],\n",
       "        [35252, 35889, 36135, 36284, 43125],\n",
       "        [37386, 37984, 38222, 38374, 45223],\n",
       "        [39447, 40036, 40314, 40460, 47284],\n",
       "        [41545, 42114, 42376, 42521, 49370],\n",
       "        [43602, 44195, 44460, 44610, 51423],\n",
       "        [45675, 46267, 46515, 46662, 53432],\n",
       "        [47740, 48386, 48623, 48773, 55474]], dtype=torch.int32)"
      ]
     },
     "execution_count": 10,
     "metadata": {},
     "output_type": "execute_result"
    }
   ],
   "source": [
    "timings[\n",
    "    0,\n",
    "    :20,\n",
    "    torch.tensor(\n",
    "        [\n",
    "            TEVENT_CONTROLLER_START,\n",
    "            TEVENT_IFETCH_DONE,\n",
    "            TEVENT_PAGE_ALLOC_DONE,\n",
    "            TEVENT_SEMS_SETUP,\n",
    "            TEVENT_CONTROLLER_END,\n",
    "        ]\n",
    "    ),\n",
    "]"
   ]
  },
  {
   "cell_type": "code",
   "execution_count": 8,
   "metadata": {},
   "outputs": [
    {
     "data": {
      "text/plain": [
       "tensor([[ 8628,     0,     0, 16562],\n",
       "        [10568,     0,     0, 18509],\n",
       "        [13259,     0,     0, 20492],\n",
       "        [14819,     0,     0, 22381],\n",
       "        [16777,     0,     0, 24396],\n",
       "        [18737,     0,     0, 26328],\n",
       "        [20749,     0,     0, 28384],\n",
       "        [22699,     0,     0, 30544],\n",
       "        [24817,     0,     0, 32677],\n",
       "        [26740,     0,     0, 34783]], dtype=torch.int32)"
      ]
     },
     "execution_count": 8,
     "metadata": {},
     "output_type": "execute_result"
    }
   ],
   "source": [
    "timings[0, :10, torch.tensor([TEVENT_CONTROLLER_START, TEVENT_LOADER_START, TEVENT_LOADER_END, TEVENT_CONTROLLER_END])]"
   ]
  },
  {
   "cell_type": "code",
   "execution_count": 55,
   "metadata": {},
   "outputs": [
    {
     "data": {
      "text/plain": [
       "tensor([1, 1, 4, 5, 5, 5, 6, 6, 6, 6, 1, 4, 5, 5, 5, 5, 6, 6, 6, 1],\n",
       "       dtype=torch.int32)"
      ]
     },
     "execution_count": 55,
     "metadata": {},
     "output_type": "execute_result"
    }
   ],
   "source": [
    "tensor_instructions[0, :20, 0]"
   ]
  },
  {
   "cell_type": "code",
   "execution_count": 48,
   "metadata": {},
   "outputs": [
    {
     "data": {
      "text/plain": [
       "tensor([[ 20543,  20611,  14818,  52812,  10641,  57691],\n",
       "        [ 58340,  58408,  56920,  76516,  14944,  82056],\n",
       "        [ 68689, 105852,  80980, 119069,  58200, 120351],\n",
       "        [113960, 121907, 120225, 151790,  82434, 153005],\n",
       "        [142075, 142647, 152882, 172708, 120718, 173620],\n",
       "        [164966, 165611, 173221, 191788, 154728, 192720],\n",
       "        [185464, 214865, 192248, 225671, 174035, 226781],\n",
       "        [222491, 223044, 226599, 232725, 193087, 233690],\n",
       "        [233435, 234005, 233585, 243643, 227493, 244854],\n",
       "        [241520, 242116, 244729, 250707, 234061, 252124]], dtype=torch.int32)"
      ]
     },
     "execution_count": 48,
     "metadata": {},
     "output_type": "execute_result"
    }
   ],
   "source": [
    "timings[0, :10, torch.tensor([TEVENT_AT_GMEM_WAIT, TEVENT_DONE_GMEM_WAIT, TEVENT_STORE_START, TEVENT_STORE_END, TEVENT_CONTROLLER_START, TEVENT_CONTROLLER_END])]"
   ]
  },
  {
   "cell_type": "code",
   "execution_count": 54,
   "metadata": {},
   "outputs": [
    {
     "data": {
      "text/plain": [
       "tensor([[ 10641,  13795,  16376,  25035,  57691],\n",
       "        [ 14944,  24406,  32385,  59626,  82056],\n",
       "        [ 58200,  63795,  66285, 107098, 120351],\n",
       "        [ 82434,  85659, 110449, 122893, 153005],\n",
       "        [120718, 123339, 127006, 144212, 173620],\n",
       "        [154728, 161604, 162287, 167337, 192720],\n",
       "        [174035, 180666, 183492, 216293, 226781],\n",
       "        [193087, 195758, 220251, 224484, 233690],\n",
       "        [227493, 230915, 231796, 235360, 244854],\n",
       "        [234061, 239171, 240080, 243636, 252124],\n",
       "        [246234, 250025, 250898, 257446, 281436],\n",
       "        [252493, 255296, 261605, 333155, 345556],\n",
       "        [281811, 285088, 336472, 348293, 375557],\n",
       "        [345920, 349375, 351911, 369512, 394045],\n",
       "        [377155, 383571, 384332, 389136, 414120],\n",
       "        [394788, 403050, 403724, 409110, 432288],\n",
       "        [414508, 420890, 423231, 439985, 449658],\n",
       "        [432661, 435496, 444067, 448366, 458612],\n",
       "        [450125, 453865, 454753, 457791, 466304],\n",
       "        [460317, 464181, 465026, 480278, 504450]], dtype=torch.int32)"
      ]
     },
     "execution_count": 54,
     "metadata": {},
     "output_type": "execute_result"
    }
   ],
   "source": [
    "timings[0, :20, torch.tensor([TEVENT_CONTROLLER_START, TEVENT_SEMS_SETUP, TEVENT_LOADER_START, TEVENT_LOADER_END, TEVENT_CONTROLLER_END])]"
   ]
  },
  {
   "cell_type": "code",
   "execution_count": null,
   "metadata": {},
   "outputs": [],
   "source": []
  }
 ],
 "metadata": {
  "kernelspec": {
   "display_name": "Python 3",
   "language": "python",
   "name": "python3"
  },
  "language_info": {
   "codemirror_mode": {
    "name": "ipython",
    "version": 3
   },
   "file_extension": ".py",
   "mimetype": "text/x-python",
   "name": "python",
   "nbconvert_exporter": "python",
   "pygments_lexer": "ipython3",
   "version": "3.12.9"
  }
 },
 "nbformat": 4,
 "nbformat_minor": 2
}
