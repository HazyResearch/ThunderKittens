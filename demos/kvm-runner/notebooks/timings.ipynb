{
 "cells": [
  {
   "cell_type": "code",
   "execution_count": 26,
   "metadata": {},
   "outputs": [],
   "source": [
    "import pickle\n",
    "from pathlib import Path\n",
    "from collections import defaultdict"
   ]
  },
  {
   "cell_type": "code",
   "execution_count": 27,
   "metadata": {},
   "outputs": [],
   "source": [
    "data_path = Path(\"/home/ubuntu/bfs/jj/ThunderKittens/demos/kvm-runner/timings.pt\")\n",
    "\n",
    "with open(data_path, \"rb\") as f:\n",
    "    data = pickle.load(f)\n"
   ]
  },
  {
   "cell_type": "code",
   "execution_count": 28,
   "metadata": {},
   "outputs": [
    {
     "data": {
      "text/plain": [
       "(torch.Size([148, 148, 128]), torch.Size([148, 148, 32]))"
      ]
     },
     "execution_count": 28,
     "metadata": {},
     "output_type": "execute_result"
    }
   ],
   "source": [
    "timings = data[\"timings\"]\n",
    "instructions = data[\"instructions\"]\n",
    "tensor_instructions = data[\"tensor_instructions\"]\n",
    "\n",
    "timings.shape, tensor_instructions.shape"
   ]
  },
  {
   "cell_type": "code",
   "execution_count": 29,
   "metadata": {},
   "outputs": [],
   "source": [
    "NUM_SMS, NUM_INSTRUCTIONS, _ = timings.shape"
   ]
  },
  {
   "cell_type": "code",
   "execution_count": 30,
   "metadata": {},
   "outputs": [],
   "source": [
    "#define TEVENT_CONTROLLER_START 0\n",
    "#define TEVENT_IFETCH_DONE 1\n",
    "#define TEVENT_PAGE_ALLOC_DONE 2\n",
    "#define TEVENT_SEMS_SETUP 3\n",
    "#define TEVENT_CONTROLLER_END 15\n",
    "\n",
    "\n",
    "TEVENT_CONTROLLER_START = 0\n",
    "TEVENT_IFETCH_DONE = 1\n",
    "TEVENT_PAGE_ALLOC_DONE = 2\n",
    "TEVENT_SEMS_SETUP = 3\n",
    "TEVENT_CONTROLLER_END = 15\n",
    "\n",
    "#define TEVENT_LOADER_START 16\n",
    "#define TEVENT_AT_GMEM_WAIT 17\n",
    "#define TEVENT_DONE_GMEM_WAIT 18\n",
    "#define TEVENT_LOADER_END 19\n",
    "\n",
    "#define TEVENT_CONSUMER_START 24\n",
    "#define TEVENT_CONSUMER_END 88\n",
    "\n",
    "#define TEVENT_STORE_START 104\n",
    "#define TEVENT_STORE_END 126\n",
    "\n",
    "TEVENT_STORE_START = 104\n",
    "TEVENT_STORE_END = 126\n",
    "\n",
    "TEVENT_LOADER_START = 16\n",
    "TEVENT_AT_GMEM_WAIT = 17\n",
    "TEVENT_DONE_GMEM_WAIT = 18\n",
    "TEVENT_LOADER_END = 19\n",
    "\n",
    "OPCODE_RMS_QKV_MatVecRopeAppend = 1 \n",
    "OPCODE_PartialAttention = 2\n",
    "OPCODE_AttentionReduction = 3\n",
    "OPCODE_O_ProjResidual = 4\n",
    "OPCODE_RMS_DoubleMatVecSiLU = 5\n",
    "OPCODE_DownProjResidual = 6\n"
   ]
  },
  {
   "cell_type": "code",
   "execution_count": null,
   "metadata": {},
   "outputs": [
    {
     "data": {
      "text/plain": [
       "defaultdict(int,\n",
       "            {1: 144247610,\n",
       "             4: 158132180,\n",
       "             5: 445378995,\n",
       "             6: 235119505,\n",
       "             2: 18626446,\n",
       "             3: 10771170,\n",
       "             0: 111946})"
      ]
     },
     "execution_count": 31,
     "metadata": {},
     "output_type": "execute_result"
    }
   ],
   "source": [
    "# determine total time spent in each op\n",
    "\n",
    "op_to_total_time = defaultdict(int)\n",
    "\n",
    "for sm in range(NUM_SMS):\n",
    "    for i in range(NUM_INSTRUCTIONS):\n",
    "        opcode = tensor_instructions[sm, i, 0].item()\n",
    "        start = timings[sm, i, TEVENT_CONTROLLER_START].item()\n",
    "        end = timings[sm, i, TEVENT_CONTROLLER_END].item()\n",
    "        elapsed = end - start\n",
    "        assert elapsed > 0\n",
    "        op_to_total_time[opcode] += end - start\n",
    "\n",
    "op_to_total_time\n",
    "\n",
    "# plot total time spent in each op\n"
   ]
  },
  {
   "cell_type": "code",
   "execution_count": null,
   "metadata": {},
   "outputs": [],
   "source": []
  }
 ],
 "metadata": {
  "kernelspec": {
   "display_name": "Python 3",
   "language": "python",
   "name": "python3"
  },
  "language_info": {
   "codemirror_mode": {
    "name": "ipython",
    "version": 3
   },
   "file_extension": ".py",
   "mimetype": "text/x-python",
   "name": "python",
   "nbconvert_exporter": "python",
   "pygments_lexer": "ipython3",
   "version": "3.12.9"
  }
 },
 "nbformat": 4,
 "nbformat_minor": 2
}
